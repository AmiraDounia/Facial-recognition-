{
  "cells": [
    {
      "cell_type": "markdown",
      "source": [
        "Module : <b>IMAGE PROCESSING </b><br> Projet : <b>Face recognition using yale faces data set </b><br> done by  : <b> CHEBOUTI Boutheina and NACEREDDINE Douni Amira </b><br> Classe : <b>2 DSIA</b>  "
      ],
      "metadata": {
        "id": "jQL3LgM9yMKA"
      }
    },
    {
      "cell_type": "markdown",
      "metadata": {
        "id": "0OsG0gQOCXQn"
      },
      "source": [
        "**Preprocessing** \n",
        "\n",
        "1. Rajouter l’extension « .gif » aux 165 images de la base.\n",
        "3. Créer 15 dossiers, ou chaque dossier contient les 11 images de chaque personne."
      ]
    },
    {
      "cell_type": "code",
      "execution_count": null,
      "metadata": {
        "colab": {
          "base_uri": "https://localhost:8080/",
          "height": 241
        },
        "id": "2sIJUDdrAMfl",
        "outputId": "f34df21e-4b42-4ca8-cb94-070b1e04ceef"
      },
      "outputs": [
        {
          "name": "stdout",
          "output_type": "stream",
          "text": [
            "Already Completed\n"
          ]
        }
      ],
      "source": [
        "import os\n",
        "from skimage.transform import resize\n",
        "from skimage.feature import hog\n",
        "from skimage import exposure\n",
        "import numpy as np\n",
        "from PIL import Image as im\n",
        "import cv2 as cv\n",
        "import matplotlib.pyplot as plt\n",
        "from PIL import Image\n",
        "from torch.utils.data import DataLoader, random_split\n",
        "from torchvision import transforms, datasets\n",
        "from torch.utils.data import Dataset\n",
        "\n",
        "\n",
        "data_path = r'C:\\Users\\benz\\Desktop\\TIM\\faceRec\\yalefaces' #specifying the path of the dataset\n",
        "save_path = r'C:\\Users\\benz\\Desktop\\TIM\\faceRec\\preprocessing'#the patg of the dataset after preprocessing\n",
        "\n",
        "#Changing the files format to .gif \n",
        "for file_name in os.listdir(data_path): #Returns a list of files in the specified directory \n",
        "    if not 'gif' in file_name and not 'txt' in file_name and not 'DS_Store' in file_name:\n",
        "      image = Image.open(data_path + '/' + file_name)\n",
        "      subject_num = file_name.split('.')[0]\n",
        "      #Adding the . gif extension into every image \n",
        "      img_path = save_path + '/' + subject_num + '/' + file_name + '.gif'\n",
        "      if not os.path.isdir(save_path + '/' + subject_num):\n",
        "       os.mkdir(save_path + '/' + subject_num)\n",
        "      if not os.path.isfile(img_path):\n",
        "             image.save(img_path)\n",
        "    else:\n",
        "         print(\"Already Completed\")"
      ]
    },
    {
      "cell_type": "markdown",
      "metadata": {
        "id": "ClF0sRorCfL1"
      },
      "source": [
        "in this section of the code, we created a new directory called preprocessing that contains 15 files ( subject01, subject02,...subject15) and each file contains the 11 images of the same person, with the extension .gif"
      ]
    },
    {
      "cell_type": "markdown",
      "metadata": {
        "id": "w6fhfaDXyLNG"
      },
      "source": [
        "**2-Face detection** \n"
      ]
    },
    {
      "cell_type": "code",
      "execution_count": null,
      "metadata": {
        "id": "a0zNusf5AMfz",
        "outputId": "1f3f740a-35dd-41a9-bc8d-c4aad39e0cc4"
      },
      "outputs": [
        {
          "name": "stdout",
          "output_type": "stream",
          "text": [
            "Faces found:  1\n",
            "Faces found:  1\n",
            "Faces found:  1\n",
            "Faces found:  1\n",
            "Faces found:  1\n",
            "Faces found:  1\n",
            "Faces found:  1\n",
            "Faces found:  1\n",
            "Faces found:  1\n",
            "Faces found:  1\n",
            "Faces found:  1\n",
            "Faces found:  1\n",
            "Faces found:  1\n",
            "Faces found:  1\n",
            "Faces found:  1\n",
            "Faces found:  1\n",
            "Faces found:  1\n",
            "Faces found:  1\n",
            "Faces found:  1\n",
            "Faces found:  1\n",
            "Faces found:  1\n",
            "Faces found:  1\n",
            "Faces found:  1\n",
            "Faces found:  1\n",
            "Faces found:  1\n",
            "Faces found:  1\n",
            "Faces found:  1\n",
            "Faces found:  1\n",
            "Faces found:  1\n",
            "Faces found:  1\n",
            "Faces found:  1\n",
            "Faces found:  1\n",
            "Faces found:  1\n",
            "Faces found:  1\n",
            "Faces found:  1\n",
            "Faces found:  1\n",
            "Faces found:  1\n",
            "Faces found:  1\n",
            "Faces found:  1\n",
            "Faces found:  1\n",
            "Faces found:  1\n",
            "Faces found:  1\n",
            "Faces found:  1\n",
            "Faces found:  1\n",
            "Faces found:  1\n",
            "Faces found:  1\n",
            "Faces found:  1\n",
            "Faces found:  1\n",
            "Faces found:  1\n",
            "Faces found:  1\n",
            "Faces found:  1\n",
            "Faces found:  1\n",
            "Faces found:  1\n",
            "Faces found:  1\n",
            "Faces found:  1\n",
            "Faces found:  1\n",
            "Faces found:  1\n",
            "Faces found:  1\n",
            "Faces found:  1\n",
            "Faces found:  1\n",
            "Faces found:  1\n",
            "Faces found:  1\n",
            "Faces found:  1\n",
            "Faces found:  1\n",
            "Faces found:  1\n",
            "Faces found:  1\n",
            "Faces found:  1\n",
            "Faces found:  1\n",
            "Faces found:  1\n",
            "Faces found:  1\n",
            "Faces found:  1\n",
            "Faces found:  1\n",
            "Faces found:  1\n",
            "Faces found:  1\n",
            "Faces found:  1\n",
            "Faces found:  1\n",
            "Faces found:  1\n",
            "Faces found:  1\n",
            "Faces found:  1\n",
            "Faces found:  1\n",
            "Faces found:  1\n",
            "Faces found:  1\n",
            "Faces found:  1\n",
            "Faces found:  1\n",
            "Faces found:  1\n",
            "Faces found:  1\n",
            "Faces found:  1\n",
            "Faces found:  1\n",
            "Faces found:  1\n",
            "Faces found:  1\n",
            "Faces found:  1\n",
            "Faces found:  1\n",
            "Faces found:  1\n",
            "Faces found:  1\n",
            "Faces found:  1\n",
            "Faces found:  1\n",
            "Faces found:  1\n",
            "Faces found:  1\n",
            "Faces found:  1\n",
            "Faces found:  1\n",
            "Faces found:  1\n",
            "Faces found:  1\n",
            "Faces found:  1\n",
            "Faces found:  1\n",
            "Faces found:  1\n",
            "Faces found:  1\n",
            "Faces found:  1\n",
            "Faces found:  1\n",
            "Faces found:  1\n",
            "Faces found:  1\n",
            "Faces found:  1\n",
            "Faces found:  1\n",
            "Faces found:  1\n",
            "Faces found:  1\n",
            "Faces found:  1\n",
            "Faces found:  1\n",
            "Faces found:  1\n",
            "Faces found:  1\n",
            "Faces found:  1\n",
            "Faces found:  1\n",
            "Faces found:  1\n",
            "Faces found:  1\n",
            "Faces found:  1\n",
            "Faces found:  1\n",
            "Faces found:  1\n",
            "Faces found:  1\n",
            "Faces found:  1\n",
            "Faces found:  1\n",
            "Faces found:  1\n",
            "Faces found:  1\n",
            "Faces found:  1\n",
            "Faces found:  1\n",
            "Faces found:  1\n",
            "Faces found:  1\n",
            "Faces found:  1\n",
            "Faces found:  1\n",
            "Faces found:  1\n",
            "Faces found:  1\n",
            "Faces found:  1\n",
            "Faces found:  1\n",
            "Faces found:  1\n",
            "Faces found:  1\n",
            "Faces found:  1\n",
            "Faces found:  1\n",
            "Faces found:  1\n",
            "Faces found:  1\n",
            "Faces found:  1\n",
            "Faces found:  1\n",
            "Faces found:  1\n",
            "Faces found:  1\n",
            "Faces found:  1\n",
            "Faces found:  1\n",
            "Faces found:  1\n",
            "Faces found:  1\n",
            "Faces found:  1\n",
            "Faces found:  1\n",
            "Faces found:  1\n",
            "Faces found:  1\n",
            "Faces found:  1\n",
            "Faces found:  1\n",
            "Faces found:  1\n",
            "Faces found:  1\n",
            "Faces found:  1\n",
            "Faces found:  1\n",
            "Faces found:  1\n"
          ]
        }
      ],
      "source": [
        "face_cascade=cv.CascadeClassifier(cv.data.haarcascades + \"haarcascade_frontalface_default.xml\") \n",
        "data_path=r'preprocessing'\n",
        "new_path = 'Cropped'           #this is the path of the new directory containing the cut images, each one containing the face only\n",
        "for file_name in os.listdir(data_path):\n",
        "    p = os.makedirs(new_path+'/'+file_name)  \n",
        "    for image in os.listdir(data_path+'/'+file_name):\n",
        "        gray = plt.imread(data_path+'/'+file_name+'/'+image) # we read the image with the imread() methode \n",
        "        faces = face_cascade.detectMultiScale(gray, 1.1 , 5)  # with the method detectemultiscale() implimated withe the cascadeclassifier we detect the face in the image\n",
        "        print('Faces found: ', len(faces))\n",
        "        x=faces[0][0]\n",
        "        y=faces[0][1]\n",
        "        w=faces[0][2]\n",
        "        h=faces[0][3]\n",
        "        cv.rectangle(gray, (x,y), (x+w, y+h), (0,0,0), 2)\n",
        "        crop=gray[y:y+h,x:x+w] # we cut the image and we leave the face part only\n",
        "        cv.imwrite(new_path+'/'+file_name+'/'+image+'.png',crop )  # we save the cut image into the new file "
      ]
    },
    {
      "cell_type": "markdown",
      "metadata": {
        "id": "wNz4twWzUjkh"
      },
      "source": [
        "**4-HOG Features generation foe the rescaled images**"
      ]
    },
    {
      "cell_type": "code",
      "execution_count": null,
      "metadata": {
        "id": "A8bQt8vAAMf0",
        "outputId": "146398f6-6f78-45e4-8695-a3b298a2b97c"
      },
      "outputs": [
        {
          "name": "stderr",
          "output_type": "stream",
          "text": [
            "C:\\Users\\benz\\AppData\\Local\\Temp\\ipykernel_8608\\3981805224.py:12: FutureWarning: `multichannel` is a deprecated argument name for `hog`. It will be removed in version 1.0. Please use `channel_axis` instead.\n",
            "  fd,hog_image= hog(im,orientations=9, pixels_per_cell=(8, 8),cells_per_block=(2, 2), visualize=True, multichannel=True)\n",
            "C:\\Users\\benz\\AppData\\Local\\Temp\\ipykernel_8608\\3981805224.py:15: VisibleDeprecationWarning: Creating an ndarray from ragged nested sequences (which is a list-or-tuple of lists-or-tuples-or ndarrays with different lengths or shapes) is deprecated. If you meant to do this, you must specify 'dtype=object' when creating the ndarray.\n",
            "  Hog_features = np.array(Hog_features) # changing the list into a numpy array to facilitate manipulation\n"
          ]
        }
      ],
      "source": [
        "Hog_features = [] #creating a list to store the hog features\n",
        "hog_images = [] # storing the gradient images in a list \n",
        "new_path = 'Cropped'\n",
        "\n",
        "\n",
        " \n",
        "#selecting the subject files (15 file )\n",
        "for file_name in os.listdir(new_path): \n",
        "    #selecting the diffrent images in each file wich are 11 per file \n",
        "    for image in os.listdir(new_path+'/'+file_name):\n",
        "       im =plt.imread(new_path+'/'+file_name+'/'+image)\n",
        "       fd,hog_image= hog(im,orientations=9, pixels_per_cell=(8, 8),cells_per_block=(2, 2), visualize=True, multichannel=True)\n",
        "       Hog_features.append(fd)\n",
        "       hog_images.append(hog_image)\n",
        "Hog_features = np.array(Hog_features) # changing the list into a numpy array to facilitate manipulation \n",
        "print (\"the number of feautures generated is : \" + str (Hog_features.shape [1])) # returns the number of features generated \n",
        "\n"
      ]
    },
    {
      "cell_type": "markdown",
      "metadata": {
        "id": "ZSJ0e_BMAMf2"
      },
      "source": [
        "**Example of a hog image** "
      ]
    },
    {
      "cell_type": "code",
      "execution_count": null,
      "metadata": {
        "id": "qnUWDKodAMf7",
        "outputId": "dbf5760b-3f00-4de5-b825-e00b9ec4037c"
      },
      "outputs": [
        {
          "name": "stdout",
          "output_type": "stream",
          "text": [
            "[0.48043427 0.06730545 0.1657829  ... 0.01947322 0.08739826 0.05305542]\n"
          ]
        },
        {
          "data": {
            "image/png": "[encoded data removed]",
            "text/plain": [
              "<Figure size 432x288 with 1 Axes>"
            ]
          },
          "metadata": {
            "needs_background": "light"
          },
          "output_type": "display_data"
        }
      ],
      "source": [
        "plt.imshow(hog_images[1]) #displaying an example \n",
        "print(Hog_features[1])"
      ]
    },
    {
      "cell_type": "markdown",
      "metadata": {
        "id": "5i_YzZWUyLNX"
      },
      "source": [
        "**5-Labeling the data and creating the dataset**          "
      ]
    },
    {
      "cell_type": "code",
      "execution_count": null,
      "metadata": {
        "id": "f2lxj9tTAMf8",
        "outputId": "106ec045-7732-48dc-f871-1efa087b3b7a"
      },
      "outputs": [
        {
          "data": {
            "text/html": [
              "<div>\n",
              "<style scoped>\n",
              "    .dataframe tbody tr th:only-of-type {\n",
              "        vertical-align: middle;\n",
              "    }\n",
              "\n",
              "    .dataframe tbody tr th {\n",
              "        vertical-align: top;\n",
              "    }\n",
              "\n",
              "    .dataframe thead th {\n",
              "        text-align: right;\n",
              "    }\n",
              "</style>\n",
              "<table border=\"1\" class=\"dataframe\">\n",
              "  <thead>\n",
              "    <tr style=\"text-align: right;\">\n",
              "      <th></th>\n",
              "      <th>0</th>\n",
              "      <th>Subject</th>\n",
              "    </tr>\n",
              "  </thead>\n",
              "  <tbody>\n",
              "    <tr>\n",
              "      <th>0</th>\n",
              "      <td>[0.49318445, 0.0, 0.12866072, 0.0011041821, 0....</td>\n",
              "      <td>Subject1</td>\n",
              "    </tr>\n",
              "    <tr>\n",
              "      <th>1</th>\n",
              "      <td>[0.48043427, 0.06730545, 0.1657829, 0.00585134...</td>\n",
              "      <td>Subject1</td>\n",
              "    </tr>\n",
              "    <tr>\n",
              "      <th>2</th>\n",
              "      <td>[0.48521033, 0.05485054, 0.15264499, 0.0, 0.48...</td>\n",
              "      <td>Subject1</td>\n",
              "    </tr>\n",
              "    <tr>\n",
              "      <th>3</th>\n",
              "      <td>[0.49201548, 0.013901016, 0.13089551, 0.0, 0.4...</td>\n",
              "      <td>Subject1</td>\n",
              "    </tr>\n",
              "    <tr>\n",
              "      <th>4</th>\n",
              "      <td>[0.47024348, 0.092222616, 0.14306247, 0.017160...</td>\n",
              "      <td>Subject1</td>\n",
              "    </tr>\n",
              "    <tr>\n",
              "      <th>...</th>\n",
              "      <td>...</td>\n",
              "      <td>...</td>\n",
              "    </tr>\n",
              "    <tr>\n",
              "      <th>160</th>\n",
              "      <td>[0.49528933, 0.0031517574, 0.12857084, 0.0, 0....</td>\n",
              "      <td>Subject15</td>\n",
              "    </tr>\n",
              "    <tr>\n",
              "      <th>161</th>\n",
              "      <td>[0.49485794, 0.0064619742, 0.12699871, 0.0, 0....</td>\n",
              "      <td>Subject15</td>\n",
              "    </tr>\n",
              "    <tr>\n",
              "      <th>162</th>\n",
              "      <td>[0.4063907, 0.0, 0.0917568, 0.0, 0.4063907, 0....</td>\n",
              "      <td>Subject15</td>\n",
              "    </tr>\n",
              "    <tr>\n",
              "      <th>163</th>\n",
              "      <td>[0.4405262, 0.06892504, 0.09576854, 0.00080489...</td>\n",
              "      <td>Subject15</td>\n",
              "    </tr>\n",
              "    <tr>\n",
              "      <th>164</th>\n",
              "      <td>[0.43290573, 0.007965595, 0.0929722, 0.0, 0.43...</td>\n",
              "      <td>Subject15</td>\n",
              "    </tr>\n",
              "  </tbody>\n",
              "</table>\n",
              "<p>165 rows × 2 columns</p>\n",
              "</div>"
            ],
            "text/plain": [
              "                                                     0    Subject\n",
              "0    [0.49318445, 0.0, 0.12866072, 0.0011041821, 0....   Subject1\n",
              "1    [0.48043427, 0.06730545, 0.1657829, 0.00585134...   Subject1\n",
              "2    [0.48521033, 0.05485054, 0.15264499, 0.0, 0.48...   Subject1\n",
              "3    [0.49201548, 0.013901016, 0.13089551, 0.0, 0.4...   Subject1\n",
              "4    [0.47024348, 0.092222616, 0.14306247, 0.017160...   Subject1\n",
              "..                                                 ...        ...\n",
              "160  [0.49528933, 0.0031517574, 0.12857084, 0.0, 0....  Subject15\n",
              "161  [0.49485794, 0.0064619742, 0.12699871, 0.0, 0....  Subject15\n",
              "162  [0.4063907, 0.0, 0.0917568, 0.0, 0.4063907, 0....  Subject15\n",
              "163  [0.4405262, 0.06892504, 0.09576854, 0.00080489...  Subject15\n",
              "164  [0.43290573, 0.007965595, 0.0929722, 0.0, 0.43...  Subject15\n",
              "\n",
              "[165 rows x 2 columns]"
            ]
          },
          "execution_count": 8,
          "metadata": {},
          "output_type": "execute_result"
        }
      ],
      "source": [
        "import pandas as pd \n",
        "Hog_features= pd.DataFrame(Hog_features)\n",
        "#labeling the dataset and associating each vector to its class \n",
        "labels=[]\n",
        "i=0\n",
        "k=0\n",
        "j=0\n",
        "while i <15:\n",
        "    k=k+1\n",
        "    j=0\n",
        "    while j<11:\n",
        "        labels.append('Subject'+str(k))\n",
        "        j=j+1\n",
        "    i=i+1\n",
        "Hog_features['Subject']=labels\n",
        "#creating the final labeled  data frame \n",
        "pd.DataFrame(Hog_features)\n"
      ]
    },
    {
      "cell_type": "markdown",
      "metadata": {
        "id": "61NDJl2ByLNb"
      },
      "source": [
        "It was mentioned that we should use 6 vectors for each images which will take 90 vector for training and 75 for testing , if we use the train test split method directly it will take a random number from each class which will affect the performance of the model, so we had to extract 6 vectors from each class alone then merge then to be the training and testing data .    "
      ]
    },
    {
      "cell_type": "code",
      "execution_count": null,
      "metadata": {
        "id": "HPTkVHhaAMf9"
      },
      "outputs": [],
      "source": [
        "from sklearn.model_selection import train_test_split\n",
        "# we needed to create a code that takes 5 vectors for training from each class \n",
        "# if used the train_test_split function directly it will take a random number from each class wich will affect the models accuracy later \n",
        "X_train=pd.DataFrame()\n",
        "Y_train=pd.DataFrame()\n",
        "X_test=pd.DataFrame()\n",
        "Y_test=pd.DataFrame()\n",
        "clss=''\n",
        "for classe1 in labels:\n",
        "  if (clss != classe1) : \n",
        "    clss=classe1\n",
        "    datafram=pd.DataFrame()\n",
        "    datafram=Hog_features.loc[Hog_features['Subject']==classe1]\n",
        "      \n",
        "    x=datafram.drop(['Subject'],axis=1)\n",
        "    y=datafram['Subject']\n",
        "    x_train, x_test, y_train, y_test = train_test_split(x, y, test_size=5/11,random_state=42)\n",
        "  \n",
        "    X_train=pd.concat([X_train,x_train])\n",
        "    Y_train=pd.concat([Y_train,y_train])\n",
        "    X_test= pd.concat([X_test,x_test])\n",
        "    Y_test= pd.concat([Y_test,y_test])\n",
        "\n",
        "\n",
        "   \n",
        "#print(Y_test)\n",
        "#print(Y_train) "
      ]
    },
    {
      "cell_type": "markdown",
      "metadata": {
        "id": "boblxTLahYld"
      },
      "source": [
        "6.KNN                                                                    \n",
        "a. Comparing the the diffrent parameters of the KNN classifier  (Euclidienne, Manhattan et\n",
        "Canberra), (k=1,3,5,7 et 9)"
      ]
    },
    {
      "cell_type": "code",
      "execution_count": null,
      "metadata": {
        "id": "XIweLF6_AMf_"
      },
      "outputs": [],
      "source": [
        "from sklearn.neighbors import KNeighborsClassifier \n",
        "from sklearn import metrics\n",
        "from sklearn.metrics import f1_score\n",
        "\n",
        "i=1\n",
        "j=1\n",
        "f1_score_ = [] #this is a list that is will contain the F1 score for each configuration of the k value and the kind of distance\n",
        "accuracy__=[]\n",
        "X_train=np.array(X_train)\n",
        "Y_train=np.array(Y_train)\n",
        "X_test=np.array(X_test)\n",
        "Y_test=np.array(Y_test)\n",
        "\n",
        "while i<4  :\n",
        "    j=1\n",
        "    while j <10:\n",
        "        # j is for the number of neighbors \n",
        "        #p to specifiy the used distance  1= manhattan , 2 =euclidien, 3=canberra\n",
        "        Classifier = KNeighborsClassifier(n_neighbors = j, p = i)\n",
        "        \n",
        "\n",
        "        Classifier.fit(X_train,Y_train)\n",
        "        y_predict = Classifier.predict(X_test)\n",
        "        #using the f1 score instead of accuracy to avoid overfitting when the accuracy is high \n",
        "        f1_score_.append(metrics.f1_score(Y_test, y_predict,average=\"micro\"))\n",
        "        accuracy__.append(metrics.accuracy_score(Y_test, y_predict))\n",
        "        j=j+2\n",
        "    i=i+1\n",
        "\n",
        "\n",
        "\n"
      ]
    },
    {
      "cell_type": "markdown",
      "metadata": {
        "id": "U1GD8a16yLNg"
      },
      "source": [
        "** to measure **the performance** between the models we need to calculate some *metrics* such us *precision*, *accuracy* score or the *f1 score* ...ect, here we are going to use the accuracy and f1 score because we are inetrested in seeing how much are close the true values and predicted values tp each others, \n"
      ]
    },
    {
      "cell_type": "code",
      "execution_count": null,
      "metadata": {
        "id": "f_x5XS_4yLNh",
        "outputId": "de623190-3cd1-4388-b450-3ad9884b062c"
      },
      "outputs": [
        {
          "data": {
            "image/png": "[encoded data removed]",
            "text/plain": [
              "<Figure size 504x504 with 2 Axes>"
            ]
          },
          "metadata": {
            "needs_background": "light"
          },
          "output_type": "display_data"
        }
      ],
      "source": [
        "fig = plt.figure(figsize=(7,7))\n",
        "fig.add_subplot(1,2,1)\n",
        "plt.plot(range(1,10,2),[f1_score_[0],f1_score_[1],f1_score_[2],f1_score_[3],f1_score_[4]],'g', label='Manhattann distance n=1')\n",
        "plt.plot(range(1,10,2),[f1_score_[5],f1_score_[6],f1_score_[7],f1_score_[8],f1_score_[9]],'b', label='Euclidienne Distance n=2')\n",
        "plt.plot(range(1,10,2),[f1_score_[10],f1_score_[11] ,f1_score_[12],f1_score_[13],f1_score_[14]],'r', label='Canberra Distance n=3')\n",
        "plt.title(\"The affection of k values on the f1 score \")\n",
        "plt.legend(loc=\"upper right\")\n",
        "plt.ylabel(\"f1 score \")\n",
        "plt.xlabel(\"K values\")\n",
        "plt.tight_layout()\n",
        "fig.add_subplot(1,2,2)\n",
        "plt.plot(range(1,10,2),[accuracy__[0],accuracy__[1],accuracy__[2],accuracy__[3],accuracy__[4]],'g', label='Manhattann distance n=1')\n",
        "plt.plot(range(1,10,2),[accuracy__[5],accuracy__[6],accuracy__[7],accuracy__[8],accuracy__[9]],'b', label='Euclidienne Distance n=2')\n",
        "plt.plot(range(1,10,2),[accuracy__[10],accuracy__[11] ,accuracy__[12],accuracy__[13],accuracy__[14]],'r', label='Canberra Distance n=3')\n",
        "plt.title(\"The affection of k values on the accuracy \")\n",
        "plt.legend(loc=\"upper right\")\n",
        "plt.ylabel(\"accuracy score \")\n",
        "plt.xlabel(\"K values\")\n",
        "plt.tight_layout()\n",
        "plt.show()\n"
      ]
    },
    {
      "cell_type": "markdown",
      "metadata": {
        "id": "U7ZKf_O8yLNj"
      },
      "source": [
        "-We notice that the **accuracy and the f1 score are equal**  this is  because we are dealing with a multi class classification , where every **test data should belong to only 1 class** and not multi label , in such case where there is no TN , we can call True Negatives as True Positives."
      ]
    },
    {
      "cell_type": "markdown",
      "metadata": {
        "id": "NwAlqTLYfI8b"
      },
      "source": [
        "Comments : \n",
        "- we can say that the euclidian and the manhattann distance are performing similarly and the results obtained with both distances are close.\n",
        "- we can say that the manhattann distance is the best and has the best accuracy score for all the values of k compared to the other distances\n",
        "- we notice that the f-1 score  goes down when k is augmented, and the best accuracy score for the 3 distances is when the k=1\n",
        "even Though it can lead to **underfitting** which means that our model is so simple compared to the data we have and it cant capture the relationship that exists between units .\n",
        "\n",
        "Conclusion : The best accuracy score is obtained with  k is set to 1 for manhattan distance "
      ]
    },
    {
      "cell_type": "markdown",
      "metadata": {
        "id": "yV_XT-9zhPB9"
      },
      "source": [
        "b. Confusion matrix analysis :"
      ]
    },
    {
      "cell_type": "markdown",
      "metadata": {
        "id": "O465qC1wAMgA"
      },
      "source": [
        "Confusion matrix "
      ]
    },
    {
      "cell_type": "code",
      "execution_count": null,
      "metadata": {
        "id": "246VJrcZAMgB",
        "outputId": "b108a9f1-c95a-4d22-da2d-5ab77c6f61a4"
      },
      "outputs": [
        {
          "name": "stderr",
          "output_type": "stream",
          "text": [
            "c:\\Users\\benz\\AppData\\Local\\Programs\\Python\\Python39\\lib\\site-packages\\sklearn\\neighbors\\_classification.py:198: DataConversionWarning: A column-vector y was passed when a 1d array was expected. Please change the shape of y to (n_samples,), for example using ravel().\n",
            "  return self._fit(X, y)\n"
          ]
        }
      ],
      "source": [
        "voisin = KNeighborsClassifier(n_neighbors = 1, p = 1).fit(X_train,Y_train)\n",
        "y_predict = voisin.predict(X_test)"
      ]
    },
    {
      "cell_type": "code",
      "execution_count": null,
      "metadata": {
        "id": "evzZs0A1AMgB",
        "outputId": "deb97412-c909-4133-996e-3c92ab3cd7ca"
      },
      "outputs": [
        {
          "name": "stdout",
          "output_type": "stream",
          "text": [
            "accuracy0.9333333333333333\n"
          ]
        },
        {
          "data": {
            "image/png": "[encoded data removed]",
            "text/plain": [
              "<Figure size 432x288 with 2 Axes>"
            ]
          },
          "metadata": {
            "needs_background": "light"
          },
          "output_type": "display_data"
        }
      ],
      "source": [
        "import seaborn as sns\n",
        "print(\"accuracy\"+ str(metrics.accuracy_score(Y_test, y_predict)))\n",
        "confusion_matrix = metrics.confusion_matrix(Y_test, y_predict)\n",
        "\n",
        "cm_display = metrics.ConfusionMatrixDisplay(confusion_matrix = confusion_matrix)\n",
        "\n",
        "cm_display.plot()\n",
        "plt.title(\"confusion matrix for 1-NN with manhattan distance  \")\n",
        "\n",
        "plt.show()"
      ]
    },
    {
      "cell_type": "markdown",
      "metadata": {
        "id": "Ld0yRCc0hqwG"
      },
      "source": [
        "comments:\n",
        "- we can see through the confusion matrix that almost all the results are correctly predicted, for example, the 5 images from the first class were all correctly predicted.\n",
        "- the total of the wrong predicted results is 5, there is 5 images that were wrongly predicted for example, there is 1 image of the class 8 .\n",
        "- for example the subject 11(class 10 in the confusion matrix ) was predicted correctly each tile to be the subject 11 because it is a woman so the features were pretty clear and distinctive \n"
      ]
    },
    {
      "cell_type": "markdown",
      "metadata": {
        "id": "lCYB_sdUAMgC"
      },
      "source": [
        "RNM"
      ]
    },
    {
      "cell_type": "markdown",
      "metadata": {
        "id": "L0u7EOyuAMgC"
      },
      "source": [
        "**A-Defining the architechture of the neural network :** \n",
        "\n",
        " *input layer* 11664 ( number of features)\n",
        "\n",
        " *number of hidden layers* : as we have a modest number of values to be trained(165) 2 hidden layers should be enough for the training and prediction process\n",
        "\n",
        " *number of nodes at each hidden layer* : for a modest amount of data the number of the nodes should not exced the number of nodes in the input layer, after tryung multiple values to get the precision needed we ended up choosing 100 node for the first layer and 78 node for the second \n",
        " \n",
        " *nodes of the output layer* : 15 node ( number of classes )\n",
        "\n",
        "\n",
        " \n",
        "**B-Defining the parameters** :\n",
        "\n",
        " first we aimed to use the parameters seen inbthe course ( gradient descent and sigmoid activation function ) but the loss was decreasing very slowly (less than 0.0001 after 10 iterations ), and the number of iterations was reached without converging enough, so we tried the ReLu acctivation function (If the input value is 0 or greater than 0, the ReLU function outputs the input as it is. If the input is less than 0, the ReLU function outputs the value 0.) wich is similar to the sigmoid function but convergence of ReLU is 6 times faster than sigmoid functions.\n",
        "\n",
        "for the **solver**, after diging deeper in the mlp parameters it was shown that the aAdam optimizer gives much higher performance results than the other optimizers and outperforms by a big margin for a better-optimized gradient."
      ]
    },
    {
      "cell_type": "code",
      "execution_count": null,
      "metadata": {
        "id": "4maMn-O5AMgD"
      },
      "outputs": [],
      "source": [
        "from sklearn.neural_network import MLPClassifier\n",
        "from sklearn.datasets import make_classification\n",
        "from sklearn.model_selection import train_test_split"
      ]
    },
    {
      "cell_type": "code",
      "execution_count": null,
      "metadata": {
        "id": "4vJmyo7FAMgE",
        "outputId": "df62d516-21ae-41d6-e270-ec9bf86f63de"
      },
      "outputs": [
        {
          "name": "stderr",
          "output_type": "stream",
          "text": [
            "c:\\Users\\benz\\AppData\\Local\\Programs\\Python\\Python39\\lib\\site-packages\\sklearn\\neural_network\\_multilayer_perceptron.py:1109: DataConversionWarning: A column-vector y was passed when a 1d array was expected. Please change the shape of y to (n_samples, ), for example using ravel().\n",
            "  y = column_or_1d(y, warn=True)\n"
          ]
        },
        {
          "name": "stdout",
          "output_type": "stream",
          "text": [
            "mean accuracy score :0.95\n"
          ]
        }
      ],
      "source": [
        "    #creating the model and setting the parameters \n",
        "    classifier = MLPClassifier( hidden_layer_sizes = (100,78),max_iter= 1000, activation= 'relu',solver='adam',random_state=762, learning_rate= 'invscaling',alpha=0.001)\n",
        "    classifier.fit(X_train,Y_train) \n",
        "    y_predict_mlp = classifier.predict(X_test)\n",
        "    score = np.round(metrics.accuracy_score(Y_test,y_predict_mlp),2)\n",
        "    print('mean accuracy score :'+str(score))\n",
        "\n",
        "\n"
      ]
    },
    {
      "cell_type": "markdown",
      "metadata": {
        "id": "lI444G_MjbU2"
      },
      "source": [
        "a. Analyser la matrice de confusion pour la meilleure précision obtenue."
      ]
    },
    {
      "cell_type": "code",
      "execution_count": null,
      "metadata": {
        "id": "kVzvtm93AMgF",
        "outputId": "98c798a5-78f6-4fc6-da3f-5213aa32e168"
      },
      "outputs": [
        {
          "name": "stdout",
          "output_type": "stream",
          "text": [
            "0.95\n"
          ]
        },
        {
          "data": {
            "image/png": "[encoded data removed]",
            "text/plain": [
              "<Figure size 432x288 with 2 Axes>"
            ]
          },
          "metadata": {
            "needs_background": "light"
          },
          "output_type": "display_data"
        }
      ],
      "source": [
        "confusion_matrix = metrics.confusion_matrix(Y_test, y_predict_mlp)\n",
        "cm_display = metrics.ConfusionMatrixDisplay(confusion_matrix = confusion_matrix)\n",
        "print (np.round(metrics.f1_score(Y_test, y_predict_mlp,average=\"micro\"),2))\n",
        "cm_display.plot()\n",
        "plt.show()"
      ]
    },
    {
      "cell_type": "markdown",
      "metadata": {
        "id": "KC8qljHEnHGQ"
      },
      "source": [
        "- wwe can see that the diagonals of tge matrix are highlighted which shows the good performance of the model, almost all result are well predicted, except 4 images that was not correctly classified"
      ]
    },
    {
      "cell_type": "markdown",
      "metadata": {
        "id": "GIR1FZyeneJa"
      },
      "source": [
        "**8-KNN vs  RNM**"
      ]
    },
    {
      "cell_type": "markdown",
      "metadata": {
        "id": "qGtGBib_nfUa"
      },
      "source": [
        "Comparaison of the two classification approches \n",
        "- the KNN classifier generated an accuracy score of 0.93 which is a good score, but it lead us to underfitting and the model didnt learn well enough from the given data \n",
        "- the RNM classifier has an accuracy score better than the Knn classifier :0.95 and almost all images were classified in the desired class \n",
        "- we can say that the RNM classifier is better than the KNN classifier in terms of accuracy and F1 score\n",
        "- the parameters that has in impact on the performace of the KNN algorithm are the type of distance and the number of neighbours\n",
        "- the parameters that has in impact on the performace of the RNM classifier are the number of the hidden layers, the type of the activation function and the type of solver, it is trained based on the Backpropagation and the weights are modified each time the error is calculated, and they keep changing until a certain iteration and the cost function converge to its minimum local."
      ]
    },
    {
      "cell_type": "markdown",
      "metadata": {
        "id": "hVdxoQ94qMaA"
      },
      "source": [
        "**9.Non correctly classified image and the reasons why**"
      ]
    },
    {
      "cell_type": "markdown",
      "metadata": {
        "id": "JhEarO3Aqfha"
      },
      "source": [
        "for the KNN algorithm:\n",
        "- there is 5 images that were not correctly predicted, one image of the 3rd, 4th, 7th, 8th, and the 14th class, these images were not preprocessed in a good way which lead to wrong classification and the KNN model couldnt learn from them.\n",
        "- the images that were not correctly classified were classified in a subject that have a similar features ( for example the subject 9 and 13 both have mustaches so the vectors might have close values wich leads to misclassifying, ) \n",
        "- the subjects that were misclassified, their face features were a lot diffrent under diffrent lighting, the beard for men can also be misleading as it generates close values for diffrent person, thats why we see women and subjects with no beard are correctly classified compared to others, and all of this can change depending on the performance of the model as we see \n",
        "\n",
        "\n",
        "for the RNM algorithm :\n",
        "- there is 4 images that werent correctly predicted, even to the preprocessing, and the data given  for the 2 models was the same but the RNM showed a better performance and classified these images correctly, and wasnt confused by other features \n"
      ]
    },
    {
      "cell_type": "markdown",
      "metadata": {
        "id": "qMYLC7jerWee"
      },
      "source": [
        "10. Faire des propositions/ suggestions pour améliorer les performances atteintes."
      ]
    },
    {
      "cell_type": "markdown",
      "metadata": {
        "id": "gSYfXH7TraFZ"
      },
      "source": [
        "We can improve the performance of these models, through:\n",
        "\n",
        "- choose the better values for the parameters (the number of hidden layers for the MLP and the K for the KNN), as well as the learning rate.\n",
        "- Provide more data samples.\n",
        "- normalise our data to have them on the same scale.\n",
        "- Examine the learning curve to see if the algorithm used over-learns (overfitting) or under-learns (underfitting) the problem studied"
      ]
    }
  ],
  "metadata": {
    "colab": {
      "provenance": []
    },
    "kernelspec": {
      "display_name": "Python 3",
      "language": "python",
      "name": "python3"
    },
    "language_info": {
      "codemirror_mode": {
        "name": "ipython",
        "version": 3
      },
      "file_extension": ".py",
      "mimetype": "text/x-python",
      "name": "python",
      "nbconvert_exporter": "python",
      "pygments_lexer": "ipython3",
      "version": "3.9.10 (tags/v3.9.10:f2f3f53, Jan 17 2022, 15:14:21) [MSC v.1929 64 bit (AMD64)]"
    },
    "orig_nbformat": 4,
    "vscode": {
      "interpreter": {
        "hash": "898ac1710d0dc5a7d6ff6b12a1d349854d8bf491d5bdb30eec33aa3a7112139d"
      }
    }
  },
  "nbformat": 4,
  "nbformat_minor": 0
}